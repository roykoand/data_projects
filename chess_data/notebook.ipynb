{
 "cells": [
  {
   "cell_type": "markdown",
   "metadata": {},
   "source": [
    "# ♟ My chess games small exploratory analysis"
   ]
  },
  {
   "cell_type": "markdown",
   "metadata": {},
   "source": [
    "I made this notebook just for fun and for spark learning purposes."
   ]
  },
  {
   "cell_type": "code",
   "execution_count": 27,
   "metadata": {},
   "outputs": [
    {
     "data": {
      "text/html": [
       "\n",
       "            <div>\n",
       "                <p><b>SparkSession - in-memory</b></p>\n",
       "                \n",
       "        <div>\n",
       "            <p><b>SparkContext</b></p>\n",
       "\n",
       "            <p><a href=\"http://glory-to-lutsk:4040\">Spark UI</a></p>\n",
       "\n",
       "            <dl>\n",
       "              <dt>Version</dt>\n",
       "                <dd><code>v3.2.0</code></dd>\n",
       "              <dt>Master</dt>\n",
       "                <dd><code>local[*]</code></dd>\n",
       "              <dt>AppName</dt>\n",
       "                <dd><code>Chess data</code></dd>\n",
       "            </dl>\n",
       "        </div>\n",
       "        \n",
       "            </div>\n",
       "        "
      ],
      "text/plain": [
       "<pyspark.sql.session.SparkSession at 0x7fa1111ce280>"
      ]
     },
     "execution_count": 27,
     "metadata": {},
     "output_type": "execute_result"
    }
   ],
   "source": [
    "from pyspark.sql import SparkSession\n",
    "spark = SparkSession.builder.appName('Chess data').getOrCreate()\n",
    "spark.sparkContext.setLogLevel(\"ERROR\")\n",
    "spark"
   ]
  },
  {
   "cell_type": "markdown",
   "metadata": {},
   "source": [
    "## Downloading all my games with Lichess API\n",
    "Lichess API details: https://lichess.org/api#operation/apiGamesUser"
   ]
  },
  {
   "cell_type": "markdown",
   "metadata": {},
   "source": [
    "I've played many chess games, so it takes some time to download it all. You can speed up this process by specifying a personal Lichess API token. "
   ]
  },
  {
   "cell_type": "code",
   "execution_count": 2,
   "metadata": {},
   "outputs": [],
   "source": [
    "import requests\n",
    "import ndjson\n",
    "API_TOKEN = \"\" # YOUR PERSONAL TOKEN\n",
    "games= requests.get(\"https://lichess.org/api/games/user/roykoand\", headers={\"Accept\": \"application/x-ndjson\", \"Authorization\": f\"Bearer {API_TOKEN}\"}).json(cls=ndjson.Decoder)"
   ]
  },
  {
   "cell_type": "markdown",
   "metadata": {},
   "source": [
    "## Last chess game on the Lichess"
   ]
  },
  {
   "cell_type": "code",
   "execution_count": 3,
   "metadata": {},
   "outputs": [
    {
     "data": {
      "text/plain": [
       "{'id': 'CRKjpmsG',\n",
       " 'rated': True,\n",
       " 'variant': 'standard',\n",
       " 'speed': 'blitz',\n",
       " 'perf': 'blitz',\n",
       " 'createdAt': 1641722949430,\n",
       " 'lastMoveAt': 1641723324649,\n",
       " 'status': 'outoftime',\n",
       " 'players': {'white': {'user': {'name': 'oottoo', 'id': 'oottoo'},\n",
       "   'rating': 1471,\n",
       "   'ratingDiff': -6},\n",
       "  'black': {'user': {'name': 'roykoand', 'id': 'roykoand'},\n",
       "   'rating': 1465,\n",
       "   'ratingDiff': 6}},\n",
       " 'winner': 'black',\n",
       " 'moves': 'Nh3 d5 d4 Bxh3 gxh3 Nf6 Bg5 e6 Nc3 Bb4 Bd2 Nc6 e3 e5 dxe5 Nxe5 Qe2 O-O f4 Bxc3 Bxc3 Nc6 O-O-O Re8 Bg2 Ne7 h4 c6 h5 h6 Bxf6 gxf6 Qg4+ Kh7 Bf1 Rg8 Bd3+ Kh8 Qh4 Nc8 Rhf1 f5 Qh3 Nd6 Bxf5 Nxf5 Qxf5 Qc8 Qf6+ Kh7 e4 Qe6 Qd4 Qxe4 Qxe4+ dxe4 Rd7 Rgf8 Re7 Rab8 Rxe4 a5 f5 b6 f6 Rg8 Re7 Rgf8 Rg1 Rbe8 Rg7+ Kh8 Rexf7 Rxf7 Rxf7 Kg8 Rg7+ Kh8 f7 Rf8 Rg6 Kh7 Rxc6 Rxf7 Rxb6 Rf1+ Kd2 Rf2+ Kc3 Rxh2 Ra6 Rxh5 a4 Rg5 Rb6 h5 Rb5 Kh6 Rxg5 Kxg5 Kd3 h4 Ke2 Kg4 Kf2 Kh3 Kg1 Kg3 b4 h3 b5 h2+',\n",
       " 'clock': {'initial': 180, 'increment': 0, 'totalTime': 180}}"
      ]
     },
     "execution_count": 3,
     "metadata": {},
     "output_type": "execute_result"
    }
   ],
   "source": [
    "games[0]"
   ]
  },
  {
   "cell_type": "markdown",
   "metadata": {},
   "source": [
    "## Convert ndjson API response of games to spark dataframe"
   ]
  },
  {
   "cell_type": "code",
   "execution_count": 4,
   "metadata": {},
   "outputs": [
    {
     "name": "stderr",
     "output_type": "stream",
     "text": [
      "[Stage 5:======================================================>(174 + 1) / 175]\r"
     ]
    },
    {
     "name": "stdout",
     "output_type": "stream",
     "text": [
      "-RECORD 0---------------------------\n",
      " clock       | {0, 180, 180}        \n",
      " createdAt   | 1641722949430        \n",
      " daysPerTurn | null                 \n",
      " id          | CRKjpmsG             \n",
      " initialFen  | null                 \n",
      " lastMoveAt  | 1641723324649        \n",
      " moves       | Nh3 d5 d4 Bxh3 gx... \n",
      " perf        | blitz                \n",
      " players     | {{null, null, 146... \n",
      " rated       | true                 \n",
      " speed       | blitz                \n",
      " status      | outoftime            \n",
      " swiss       | null                 \n",
      " tournament  | null                 \n",
      " variant     | standard             \n",
      " winner      | black                \n",
      "only showing top 1 row\n",
      "\n"
     ]
    },
    {
     "name": "stderr",
     "output_type": "stream",
     "text": [
      "                                                                                \r"
     ]
    }
   ],
   "source": [
    "import json\n",
    "json_dump = json.dumps(games)\n",
    "jsonRDD = spark.sparkContext.parallelize([json_dump], 300)\n",
    "chess_df = spark.read.json(jsonRDD)\n",
    "chess_df.show(1, vertical=True) "
   ]
  },
  {
   "cell_type": "code",
   "execution_count": 5,
   "metadata": {},
   "outputs": [
    {
     "name": "stdout",
     "output_type": "stream",
     "text": [
      "root\n",
      " |-- clock: struct (nullable = true)\n",
      " |    |-- increment: long (nullable = true)\n",
      " |    |-- initial: long (nullable = true)\n",
      " |    |-- totalTime: long (nullable = true)\n",
      " |-- createdAt: long (nullable = true)\n",
      " |-- daysPerTurn: long (nullable = true)\n",
      " |-- id: string (nullable = true)\n",
      " |-- initialFen: string (nullable = true)\n",
      " |-- lastMoveAt: long (nullable = true)\n",
      " |-- moves: string (nullable = true)\n",
      " |-- perf: string (nullable = true)\n",
      " |-- players: struct (nullable = true)\n",
      " |    |-- black: struct (nullable = true)\n",
      " |    |    |-- aiLevel: long (nullable = true)\n",
      " |    |    |-- provisional: boolean (nullable = true)\n",
      " |    |    |-- rating: long (nullable = true)\n",
      " |    |    |-- ratingDiff: long (nullable = true)\n",
      " |    |    |-- user: struct (nullable = true)\n",
      " |    |    |    |-- id: string (nullable = true)\n",
      " |    |    |    |-- name: string (nullable = true)\n",
      " |    |    |    |-- patron: boolean (nullable = true)\n",
      " |    |    |    |-- title: string (nullable = true)\n",
      " |    |-- white: struct (nullable = true)\n",
      " |    |    |-- aiLevel: long (nullable = true)\n",
      " |    |    |-- provisional: boolean (nullable = true)\n",
      " |    |    |-- rating: long (nullable = true)\n",
      " |    |    |-- ratingDiff: long (nullable = true)\n",
      " |    |    |-- user: struct (nullable = true)\n",
      " |    |    |    |-- id: string (nullable = true)\n",
      " |    |    |    |-- name: string (nullable = true)\n",
      " |    |    |    |-- patron: boolean (nullable = true)\n",
      " |-- rated: boolean (nullable = true)\n",
      " |-- speed: string (nullable = true)\n",
      " |-- status: string (nullable = true)\n",
      " |-- swiss: string (nullable = true)\n",
      " |-- tournament: string (nullable = true)\n",
      " |-- variant: string (nullable = true)\n",
      " |-- winner: string (nullable = true)\n",
      "\n"
     ]
    }
   ],
   "source": [
    "chess_df.printSchema()"
   ]
  },
  {
   "cell_type": "markdown",
   "metadata": {},
   "source": [
    "For the sake of readability, let's convert timestamp in milliseconds to time in ```YYYYY-MM-DD HH:MM:SS``` format for ```createdAt``` and ```lastMoveAt``` column."
   ]
  },
  {
   "cell_type": "code",
   "execution_count": 6,
   "metadata": {},
   "outputs": [
    {
     "data": {
      "text/plain": [
       "DataFrame[createdAt: string, lastMoveAt: string]"
      ]
     },
     "execution_count": 6,
     "metadata": {},
     "output_type": "execute_result"
    }
   ],
   "source": [
    "from pyspark.sql.functions import col, from_unixtime\n",
    "chess_df = chess_df.withColumn(\"createdAt\", from_unixtime(col(\"createdAt\")/1000))\\\n",
    "    .withColumn(\"lastMoveAt\", from_unixtime(col(\"lastMoveAt\")/1000))\n",
    "chess_df.select(col('createdAt'), col('lastMoveAt'))"
   ]
  },
  {
   "cell_type": "markdown",
   "metadata": {},
   "source": [
    "## What are the types of chess I have played?"
   ]
  },
  {
   "cell_type": "code",
   "execution_count": 7,
   "metadata": {},
   "outputs": [
    {
     "name": "stderr",
     "output_type": "stream",
     "text": [
      "[Stage 6:======================================================>(299 + 1) / 300]\r"
     ]
    },
    {
     "name": "stdout",
     "output_type": "stream",
     "text": [
      "+--------------+\n",
      "|          perf|\n",
      "+--------------+\n",
      "|      chess960|\n",
      "| kingOfTheHill|\n",
      "|    threeCheck|\n",
      "|        atomic|\n",
      "|correspondence|\n",
      "|   ultraBullet|\n",
      "|     antichess|\n",
      "|         horde|\n",
      "|   racingKings|\n",
      "|         blitz|\n",
      "|     classical|\n",
      "|        bullet|\n",
      "|         rapid|\n",
      "|    crazyhouse|\n",
      "+--------------+\n",
      "\n"
     ]
    },
    {
     "name": "stderr",
     "output_type": "stream",
     "text": [
      "                                                                                \r"
     ]
    }
   ],
   "source": [
    "CLASSIC_CHESS_MODES = ['correspondence', 'ultraBullet', 'bullet', 'blitz', 'classical', 'rapid']\n",
    "chess_df.select(col('perf')).distinct().show()"
   ]
  },
  {
   "cell_type": "markdown",
   "metadata": {},
   "source": [
    "## What is my first chess game on the Lichess?"
   ]
  },
  {
   "cell_type": "code",
   "execution_count": 30,
   "metadata": {},
   "outputs": [
    {
     "name": "stderr",
     "output_type": "stream",
     "text": [
      "[Stage 104:=============================================>       (150 + 5) / 175]\r"
     ]
    },
    {
     "name": "stdout",
     "output_type": "stream",
     "text": [
      "-RECORD 0---------------------------------------------------------------------------------------------------------------------------------------------------------\n",
      " clock       | {0, 60, 60}                                                                                                                                        \n",
      " createdAt   | 2019-08-17 07:27:50                                                                                                                                \n",
      " daysPerTurn | null                                                                                                                                               \n",
      " id          | lW1KkioO                                                                                                                                           \n",
      " initialFen  | null                                                                                                                                               \n",
      " lastMoveAt  | 2019-08-17 07:28:42                                                                                                                                \n",
      " moves       | e4 g6 f3 Bg7 d3 d6 c4 Nd7 b3 Ngf6 a4 Nxe4 Nd2 Bxa1 Be2 Bc3 Bb2 Bxd2+ Qxd2 Nxd2 Kxd2 e5 d4 Qg5+ f4 Qxf4+ Ke1 exd4 g3 Qe3 Nf3 Nc5 Bc1 Nd3+ Kd1 Qxc1# \n",
      " perf        | bullet                                                                                                                                             \n",
      " players     | {{null, null, 1488, 5, {roziqul, Roziqul, null, null}}, {null, true, 1500, -181, {roykoand, roykoand, null}}}                                      \n",
      " rated       | true                                                                                                                                               \n",
      " speed       | bullet                                                                                                                                             \n",
      " status      | mate                                                                                                                                               \n",
      " swiss       | null                                                                                                                                               \n",
      " tournament  | null                                                                                                                                               \n",
      " variant     | standard                                                                                                                                           \n",
      " winner      | black                                                                                                                                              \n",
      "\n"
     ]
    },
    {
     "name": "stderr",
     "output_type": "stream",
     "text": [
      "                                                                                \r"
     ]
    }
   ],
   "source": [
    "from pyspark.sql.functions import min\n",
    "min_date = chess_df.select(min('createdAt')).first()\n",
    "first_game = chess_df.filter((col('createdAt') == min_date[0]) & col('perf').isin(CLASSIC_CHESS_MODES))\n",
    "first_game.show(truncate=False, vertical=True)"
   ]
  },
  {
   "cell_type": "markdown",
   "metadata": {},
   "source": [
    "## Chessboard endgame position of the first game\n",
    "Yeah, I played white color :)"
   ]
  },
  {
   "cell_type": "code",
   "execution_count": 9,
   "metadata": {},
   "outputs": [
    {
     "name": "stderr",
     "output_type": "stream",
     "text": [
      "                                                                                \r"
     ]
    },
    {
     "data": {
      "image/png": "[encoded data removed]",
      "text/plain": [
       "<PIL.PngImagePlugin.PngImageFile image mode=RGB size=400x400 at 0x7FA10A096370>"
      ]
     },
     "execution_count": 9,
     "metadata": {},
     "output_type": "execute_result"
    }
   ],
   "source": [
    "from PIL import Image\n",
    "import chess.pgn\n",
    "import cairosvg\n",
    "import io\n",
    "\n",
    "def pgn2png(game_pgn: str) -> Image:\n",
    "    game = chess.pgn.read_game(io.StringIO(game_pgn))\n",
    "    game = game.end()\n",
    "    board = game.board()\n",
    "    svg_board = chess.svg.board(board=board, size=400)\n",
    "    return Image.open(io.BytesIO(cairosvg.svg2png(svg_board)))\n",
    "\n",
    "pgn2png(first_game.select(col('moves')).first()[0])"
   ]
  },
  {
   "cell_type": "markdown",
   "metadata": {},
   "source": [
    "## What is the most frequent chess game by moves?\n",
    "The most common is games without moves. It happens in the Lichess tournaments, if a white player doesn't make a move. In this situation, the black player automatically becomes the winner. Let's throw out these games."
   ]
  },
  {
   "cell_type": "code",
   "execution_count": 10,
   "metadata": {},
   "outputs": [
    {
     "name": "stderr",
     "output_type": "stream",
     "text": [
      "[Stage 22:=====================================================>(299 + 1) / 300]\r"
     ]
    },
    {
     "name": "stdout",
     "output_type": "stream",
     "text": [
      "+-----------------------------+-----+\n",
      "|moves                        |count|\n",
      "+-----------------------------+-----+\n",
      "|                             |8    |\n",
      "|e4 e5 Bc4 Nc6 Qf3 d6 Qxf7#   |4    |\n",
      "|b3 g6 Bb2 Bg7 Bxg7           |4    |\n",
      "|g3 e5 Bg2 Qf6 d3 Bc5 e4 Qxf2#|3    |\n",
      "|g3 b6 Bg2 Bb7 Bxb7           |3    |\n",
      "+-----------------------------+-----+\n",
      "only showing top 5 rows\n",
      "\n"
     ]
    },
    {
     "name": "stderr",
     "output_type": "stream",
     "text": [
      "                                                                                \r"
     ]
    }
   ],
   "source": [
    "most_frequent_games = chess_df.where(col('perf').isin(CLASSIC_CHESS_MODES)).groupBy(\"moves\").count().orderBy(\"count\", \"moves\", ascending=False)\n",
    "most_frequent_games.show(5, truncate=False)"
   ]
  },
  {
   "cell_type": "markdown",
   "metadata": {},
   "source": [
    "Hmmm, ```e4 e5 Bc4 Nc6 Qf3 d6 Qxf7#``` and ```g3 e5 Bg2 Qf6 d3 Bc5 e4 Qxf2#``` looks familiar. \n",
    "\n",
    "I remembered this pain after creating the endgame position picture (I can't imagine chess position by pgn in the mind). It's Scholar's mate."
   ]
  },
  {
   "cell_type": "code",
   "execution_count": 11,
   "metadata": {},
   "outputs": [
    {
     "name": "stderr",
     "output_type": "stream",
     "text": [
      "                                                                                \r"
     ]
    },
    {
     "data": {
      "image/png": "[encoded data removed]",
      "text/plain": [
       "<Figure size 1296x720 with 2 Axes>"
      ]
     },
     "metadata": {
      "needs_background": "light"
     },
     "output_type": "display_data"
    }
   ],
   "source": [
    "import matplotlib.pyplot as plt\n",
    "most_frequent_games = most_frequent_games.take(5)\n",
    "plt.rcParams.update({'font.size': 22})\n",
    "fig = plt.figure(figsize=(18, 10))\n",
    "ax = fig.add_subplot(1, 2, 1)\n",
    "ax2 = fig.add_subplot(1, 2, 2)\n",
    "ax.imshow(pgn2png(most_frequent_games[1][0]))\n",
    "ax2.imshow(pgn2png(most_frequent_games[3][0]))\n",
    "fig.suptitle(\"Scholar\\'s mate\")\n",
    "fig.subplots_adjust(top=1.1)\n",
    "ax.set_axis_off()\n",
    "ax2.set_axis_off()\n",
    "plt.show()"
   ]
  },
  {
   "cell_type": "markdown",
   "metadata": {},
   "source": [
    "## Number of games by colors"
   ]
  },
  {
   "cell_type": "code",
   "execution_count": 12,
   "metadata": {},
   "outputs": [
    {
     "name": "stderr",
     "output_type": "stream",
     "text": [
      "[Stage 30:=====================================================>(299 + 1) / 300]\r"
     ]
    },
    {
     "name": "stdout",
     "output_type": "stream",
     "text": [
      "+---------+-----+\n",
      "|    Color|Count|\n",
      "+---------+-----+\n",
      "|    White| 3907|\n",
      "|    Black| 3888|\n",
      "|All games| 7795|\n",
      "+---------+-----+\n",
      "\n"
     ]
    },
    {
     "name": "stderr",
     "output_type": "stream",
     "text": [
      "                                                                                \r"
     ]
    }
   ],
   "source": [
    "chess_df.createOrReplaceGlobalTempView(\"chess_table\")\n",
    "spark.sql(\"\"\"\n",
    "SELECT \"White\" AS `Color`, COUNT(*) AS `Count`\n",
    "FROM global_temp.chess_table\n",
    "WHERE  players.white.user.name = \"roykoand\"\n",
    "UNION \n",
    "SELECT \"Black\", COUNT(*)\n",
    "FROM global_temp.chess_table\n",
    "WHERE  players.black.user.name = \"roykoand\"\n",
    "UNION \n",
    "SELECT \"All games\", COUNT(*)\n",
    "FROM global_temp.chess_table\n",
    "\"\"\").show()"
   ]
  },
  {
   "cell_type": "markdown",
   "metadata": {},
   "source": [
    "## Number of games by chess game type"
   ]
  },
  {
   "cell_type": "code",
   "execution_count": 13,
   "metadata": {},
   "outputs": [
    {
     "name": "stderr",
     "output_type": "stream",
     "text": [
      "[Stage 40:=====================================================>(299 + 1) / 300]\r"
     ]
    },
    {
     "name": "stdout",
     "output_type": "stream",
     "text": [
      "+--------------+---------+-----+\n",
      "|          perf|totalTime|count|\n",
      "+--------------+---------+-----+\n",
      "|        bullet|  60 sec.| 3163|\n",
      "|         blitz| 180 sec.| 3058|\n",
      "|         blitz| 300 sec.|  344|\n",
      "|         blitz| 420 sec.|  200|\n",
      "|        bullet| 160 sec.|  140|\n",
      "|         blitz| 260 sec.|  139|\n",
      "|         rapid| 600 sec.|   90|\n",
      "|        bullet|  30 sec.|   80|\n",
      "|   ultraBullet|  15 sec.|   63|\n",
      "|     classical|1500 sec.|   41|\n",
      "|        atomic| 420 sec.|   39|\n",
      "|         blitz| 340 sec.|   26|\n",
      "|         rapid| 500 sec.|   25|\n",
      "|correspondence|     null|   23|\n",
      "|        bullet| 100 sec.|   20|\n",
      "|        atomic| 180 sec.|   19|\n",
      "|         blitz| 460 sec.|   19|\n",
      "|         rapid| 900 sec.|   16|\n",
      "|        atomic| 300 sec.|   15|\n",
      "|         rapid| 700 sec.|   15|\n",
      "+--------------+---------+-----+\n",
      "only showing top 20 rows\n",
      "\n"
     ]
    },
    {
     "name": "stderr",
     "output_type": "stream",
     "text": [
      "                                                                                \r"
     ]
    }
   ],
   "source": [
    "from pyspark.sql.functions import concat, lit\n",
    "chess_df.select(col('perf'), concat(col('clock.totalTime'), lit(\" sec.\")).alias('totalTime')).groupBy('perf', 'totalTime').count().orderBy('count', ascending=False).show()"
   ]
  },
  {
   "cell_type": "markdown",
   "metadata": {},
   "source": [
    "## How many rated games have I played?"
   ]
  },
  {
   "cell_type": "code",
   "execution_count": 14,
   "metadata": {},
   "outputs": [
    {
     "name": "stderr",
     "output_type": "stream",
     "text": [
      "[Stage 43:=====================================================>(299 + 1) / 300]\r"
     ]
    },
    {
     "name": "stdout",
     "output_type": "stream",
     "text": [
      "+-----+-----+\n",
      "|rated|count|\n",
      "+-----+-----+\n",
      "| true| 7165|\n",
      "|false|  630|\n",
      "+-----+-----+\n",
      "\n"
     ]
    },
    {
     "name": "stderr",
     "output_type": "stream",
     "text": [
      "                                                                                \r"
     ]
    }
   ],
   "source": [
    "chess_df.groupBy('rated').count().show()"
   ]
  },
  {
   "cell_type": "markdown",
   "metadata": {},
   "source": [
    "## What is the best rating that I have ever achieved?"
   ]
  },
  {
   "cell_type": "code",
   "execution_count": 15,
   "metadata": {},
   "outputs": [
    {
     "name": "stderr",
     "output_type": "stream",
     "text": [
      "                                                                                \r"
     ]
    },
    {
     "name": "stdout",
     "output_type": "stream",
     "text": [
      "+--------------+-----------+\n",
      "|          perf|max(rating)|\n",
      "+--------------+-----------+\n",
      "|      chess960|       1500|\n",
      "| kingOfTheHill|       1808|\n",
      "|    threeCheck|       1500|\n",
      "|        atomic|       1500|\n",
      "|correspondence|       1500|\n",
      "|   ultraBullet|       1500|\n",
      "|     antichess|       1706|\n",
      "|         horde|       1589|\n",
      "|   racingKings|       1741|\n",
      "|         blitz|       1579|\n",
      "|     classical|       1785|\n",
      "|        bullet|       1761|\n",
      "|         rapid|       1500|\n",
      "|    crazyhouse|       1802|\n",
      "+--------------+-----------+\n",
      "\n"
     ]
    }
   ],
   "source": [
    "chess_df.where(col('players.white.user.name') == 'roykoand').select(col('players.white.rating').alias('rating'), col('perf'))\\\n",
    "        .union(chess_df.where(col('players.black.user.name') == 'roykoand').select(col('players.black.rating'), col('perf'))).groupBy('perf').agg({'rating': 'max'}).show()"
   ]
  },
  {
   "cell_type": "markdown",
   "metadata": {},
   "source": [
    "## What is the most popular reason of my losing?"
   ]
  },
  {
   "cell_type": "code",
   "execution_count": 16,
   "metadata": {},
   "outputs": [
    {
     "name": "stderr",
     "output_type": "stream",
     "text": [
      "[Stage 49:====================================================> (294 + 4) / 300]\r"
     ]
    },
    {
     "name": "stdout",
     "output_type": "stream",
     "text": [
      "+---------+-----+\n",
      "|   status|count|\n",
      "+---------+-----+\n",
      "|   resign| 1880|\n",
      "|     mate| 1086|\n",
      "|outoftime|  531|\n",
      "|  timeout|   12|\n",
      "|  noStart|    5|\n",
      "+---------+-----+\n",
      "\n"
     ]
    },
    {
     "name": "stderr",
     "output_type": "stream",
     "text": [
      "                                                                                \r"
     ]
    }
   ],
   "source": [
    "chess_df.where(col('perf').isin(CLASSIC_CHESS_MODES) & (((col('players.white.user.name') == 'roykoand') & (col('winner') == 'black')) | \n",
    "                                ((col('players.black.user.name') == 'roykoand') & (col('winner') == 'white'))))\\\n",
    "                                .groupBy('status').count().orderBy('count', ascending=False).show()"
   ]
  },
  {
   "cell_type": "markdown",
   "metadata": {},
   "source": [
    "## What is my favorite oponents?"
   ]
  },
  {
   "cell_type": "code",
   "execution_count": 17,
   "metadata": {},
   "outputs": [
    {
     "name": "stderr",
     "output_type": "stream",
     "text": [
      "[Stage 52:=====================================================>(599 + 1) / 600]\r"
     ]
    },
    {
     "name": "stdout",
     "output_type": "stream",
     "text": [
      "+--------------------+-----+\n",
      "|                name|count|\n",
      "+--------------------+-----+\n",
      "|           MixaKonan|  341|\n",
      "|           Valrusman|   68|\n",
      "|            Pisicack|   32|\n",
      "|UltraBulletIsVeryFun|   11|\n",
      "|             ljaksee|   11|\n",
      "+--------------------+-----+\n",
      "only showing top 5 rows\n",
      "\n"
     ]
    },
    {
     "name": "stderr",
     "output_type": "stream",
     "text": [
      "                                                                                \r"
     ]
    }
   ],
   "source": [
    "chess_df.select(col('players.white.user.name')).union(chess_df.select(col('players.black.user.name'))).where(col('name') != 'roykoand').groupBy('name').count().orderBy('count', ascending=False).show(5)"
   ]
  },
  {
   "cell_type": "markdown",
   "metadata": {},
   "source": [
    "## When did I play the most games?"
   ]
  },
  {
   "cell_type": "code",
   "execution_count": 18,
   "metadata": {},
   "outputs": [
    {
     "name": "stderr",
     "output_type": "stream",
     "text": [
      "[Stage 55:=====================================================>(299 + 1) / 300]\r"
     ]
    },
    {
     "name": "stdout",
     "output_type": "stream",
     "text": [
      "+----------+-----+\n",
      "|      Date|count|\n",
      "+----------+-----+\n",
      "|2021-05-07|   97|\n",
      "|2019-10-19|   90|\n",
      "|2019-10-31|   88|\n",
      "|2019-10-08|   84|\n",
      "|2019-10-20|   74|\n",
      "+----------+-----+\n",
      "only showing top 5 rows\n",
      "\n"
     ]
    },
    {
     "name": "stderr",
     "output_type": "stream",
     "text": [
      "                                                                                \r"
     ]
    }
   ],
   "source": [
    "from pyspark.sql.functions import date_format\n",
    "chess_df.select(date_format(col('lastMoveAt'), 'yyyy-MM-dd').alias('Date')).groupBy('Date').count().orderBy('count', ascending=False).show(5)"
   ]
  },
  {
   "cell_type": "markdown",
   "metadata": {},
   "source": [
    "## How many chess games did I play by a particular year?"
   ]
  },
  {
   "cell_type": "code",
   "execution_count": 19,
   "metadata": {},
   "outputs": [
    {
     "name": "stderr",
     "output_type": "stream",
     "text": [
      "[Stage 58:=====================================================>(299 + 1) / 300]\r"
     ]
    },
    {
     "name": "stdout",
     "output_type": "stream",
     "text": [
      "+----+----------+\n",
      "|Year|Year count|\n",
      "+----+----------+\n",
      "|2019|      3092|\n",
      "|2021|      2443|\n",
      "|2020|      2191|\n",
      "|2022|        69|\n",
      "+----+----------+\n",
      "\n"
     ]
    },
    {
     "name": "stderr",
     "output_type": "stream",
     "text": [
      "                                                                                \r"
     ]
    }
   ],
   "source": [
    "from pyspark.sql.functions import year\n",
    "chess_df.select(year(col('lastMoveAt')).alias('Year')).groupBy('Year').agg({'Year': 'count'}).withColumnRenamed('count(year)', 'Year count').orderBy('Year count', ascending=False).show()"
   ]
  },
  {
   "cell_type": "markdown",
   "metadata": {},
   "source": [
    "## What is my favorite first move? \n",
    "Yeah, I prefer rat moves :)"
   ]
  },
  {
   "cell_type": "code",
   "execution_count": 20,
   "metadata": {},
   "outputs": [
    {
     "name": "stderr",
     "output_type": "stream",
     "text": [
      "[Stage 61:=====================================================>(598 + 2) / 600]\r"
     ]
    },
    {
     "name": "stdout",
     "output_type": "stream",
     "text": [
      "+----------+-----+\n",
      "|First move|count|\n",
      "+----------+-----+\n",
      "|        g6| 1714|\n",
      "|        g3| 1693|\n",
      "|        e4| 1195|\n",
      "|        e5| 1139|\n",
      "|        d4|  683|\n",
      "|        d5|  528|\n",
      "|        f4|  109|\n",
      "|        e6|  108|\n",
      "|        c5|   88|\n",
      "|       Nc6|   80|\n",
      "|       Nf6|   69|\n",
      "|        f5|   40|\n",
      "|        b3|   37|\n",
      "|        e3|   36|\n",
      "|        d3|   32|\n",
      "|        g4|   28|\n",
      "|        g5|   28|\n",
      "|        f6|   27|\n",
      "|        d6|   23|\n",
      "|       Nf3|   21|\n",
      "+----------+-----+\n",
      "only showing top 20 rows\n",
      "\n"
     ]
    },
    {
     "name": "stderr",
     "output_type": "stream",
     "text": [
      "                                                                                \r"
     ]
    }
   ],
   "source": [
    "from pyspark.sql.functions import split\n",
    "chess_df.where(col('players.white.user.name') == 'roykoand').select(split(col('moves'), ' ', 2)[0].alias('First move'))\\\n",
    "        .union(chess_df.where(col('players.black.user.name') == 'roykoand').select(split(col('moves'), ' ', 3)[1])).groupby('First move').count().orderBy('count', ascending=False).show()"
   ]
  },
  {
   "cell_type": "markdown",
   "metadata": {},
   "source": [
    "## What is the most frequent opening in my games?\n",
    "In this situation as opening, I mean the first five moves. "
   ]
  },
  {
   "cell_type": "code",
   "execution_count": 21,
   "metadata": {},
   "outputs": [],
   "source": [
    "def getfirstnmoves(pgn: str, n: int = 5):\n",
    "    if pgn is None:\n",
    "        return \"\"\n",
    "    moves_split = pgn.split()\n",
    "    return \" \".join(moves_split[:2 * n])"
   ]
  },
  {
   "cell_type": "code",
   "execution_count": 22,
   "metadata": {},
   "outputs": [
    {
     "name": "stderr",
     "output_type": "stream",
     "text": [
      "[Stage 64:=====================================================>(299 + 1) / 300]\r"
     ]
    },
    {
     "name": "stdout",
     "output_type": "stream",
     "text": [
      "+---------------------------------------+-----+\n",
      "|opening                                |count|\n",
      "+---------------------------------------+-----+\n",
      "|e4 g6 Nf3 Bg7 Bc4 e6 c3 Ne7 d4 O-O     |9    |\n",
      "|e4 e5 Nf3 Nc6 d4 d6 dxe5 Nxe5 Nxe5 dxe5|9    |\n",
      "|e4 e5 Nf3 Nc6 Bc4 d6 O-O Be6 Bxe6 fxe6 |9    |\n",
      "|e4 e5 Nf3 Nc6 Bc4 d6 Nc3 Be6 Bxe6 fxe6 |8    |\n",
      "|                                       |8    |\n",
      "|e4 g6 d4 Bg7 e5 e6 Nf3 Ne7 Bg5 O-O     |7    |\n",
      "|e4 g6 Nf3 Bg7 d4 e6 Nc3 Ne7 e5 O-O     |7    |\n",
      "|e4 g6 d4 Bg7 e5 e6 f4 d6 Nf3 dxe5      |6    |\n",
      "|e4 g6 d4 Bg7 e5 e6 f4 Ne7 Nf3 O-O      |6    |\n",
      "|e4 g6 d4 Bg7 Nf3 e6 Nc3 Ne7 Be3 O-O    |6    |\n",
      "|e4 g6 Nf3 Bg7 d4 e6 Nc3 Ne7 Be3 O-O    |6    |\n",
      "|e4 g6 Nf3 Bg7 Nc3 e6 d4 Ne7 e5 O-O     |6    |\n",
      "|e4 e5 Nf3 Nc6 d4 exd4 Nxd4 Nxd4 Qxd4 d6|6    |\n",
      "|e4 e5 Nf3 Nc6 Nc3 d6 d4 exd4 Nxd4 Nxd4 |6    |\n",
      "|e4 e5 Nf3 Nc6 Bc4 d6 d3 Be6 Bxe6 fxe6  |6    |\n",
      "|d4 g6 c4 Bg7 Nc3 e6 Nf3 Ne7 e4 O-O     |6    |\n",
      "|g3 g6 Bg2 Bg7 e3 e6 Ne2 Ne7 O-O O-O    |5    |\n",
      "|g3 e5 Bg2 d5 e3 e4 Ne2 Nf6 O-O Nc6     |5    |\n",
      "|g3 e5 Bg2 d5 e3 Nf6 Ne2 Nc6 O-O Bd6    |5    |\n",
      "|e4 g6 d4 Bg7 Nf3 e6 Nc3 Ne7 Bd3 O-O    |5    |\n",
      "+---------------------------------------+-----+\n",
      "only showing top 20 rows\n",
      "\n"
     ]
    },
    {
     "name": "stderr",
     "output_type": "stream",
     "text": [
      "                                                                                \r"
     ]
    }
   ],
   "source": [
    "from pyspark.sql.functions import udf\n",
    "from pyspark.sql.types import StringType\n",
    "openingUDF = udf(lambda pgn: getfirstnmoves(pgn), StringType())\n",
    "openings = chess_df.where(col('perf').isin(CLASSIC_CHESS_MODES)).select(openingUDF(col('moves')).alias('opening')).groupBy('opening').count().orderBy('count', 'opening', ascending=False)\n",
    "openings.show(truncate=False)"
   ]
  },
  {
   "cell_type": "markdown",
   "metadata": {},
   "source": [
    "## The most popular openings list\n",
    "Unfortunately, I don't know the names of the openings, but https://www.openingtree.com/ knows."
   ]
  },
  {
   "cell_type": "code",
   "execution_count": 23,
   "metadata": {},
   "outputs": [],
   "source": [
    "import pgn2gif\n",
    "\n",
    "def pgnstring2gif(pgn: str, pgn_name: str) -> str:\n",
    "    output_filename = f'{pgn_name}.pgn'\n",
    "    with open(f'{pgn_name}.pgn', 'w+') as pgn_file:\n",
    "        pgn_file.write(pgn)\n",
    "    creator = pgn2gif.PgnToGifCreator(reverse=True, duration=1, ws_color='white')\n",
    "    creator.create_gif(output_filename) \n",
    "    return pgn_name + '.gif'"
   ]
  },
  {
   "cell_type": "markdown",
   "metadata": {},
   "source": [
    "### Modern defense\n",
    "https://en.wikipedia.org/wiki/Modern_Defense"
   ]
  },
  {
   "cell_type": "code",
   "execution_count": 24,
   "metadata": {},
   "outputs": [
    {
     "name": "stderr",
     "output_type": "stream",
     "text": [
      "                                                                                \r"
     ]
    },
    {
     "data": {
      "text/html": [
       "<img src=\"Modern Defense.gif\"/>"
      ],
      "text/plain": [
       "<IPython.core.display.Image object>"
      ]
     },
     "execution_count": 24,
     "metadata": {},
     "output_type": "execute_result"
    }
   ],
   "source": [
    "from IPython.display import Image\n",
    "Image(url=pgnstring2gif(openings.collect()[0][0], \"Modern Defense\"))  "
   ]
  },
  {
   "cell_type": "markdown",
   "metadata": {},
   "source": [
    "### Scotch Game\n",
    "https://en.wikipedia.org/wiki/Scotch_Game"
   ]
  },
  {
   "cell_type": "code",
   "execution_count": 25,
   "metadata": {},
   "outputs": [
    {
     "data": {
      "text/html": [
       "<img src=\"Scotch Defense.gif\"/>"
      ],
      "text/plain": [
       "<IPython.core.display.Image object>"
      ]
     },
     "execution_count": 25,
     "metadata": {},
     "output_type": "execute_result"
    }
   ],
   "source": [
    "Image(url=pgnstring2gif(openings.collect()[1][0], \"Scotch Defense\"))  "
   ]
  },
  {
   "cell_type": "markdown",
   "metadata": {},
   "source": [
    "### Italian Game\n",
    "https://en.wikipedia.org/wiki/Italian_Game"
   ]
  },
  {
   "cell_type": "code",
   "execution_count": 26,
   "metadata": {},
   "outputs": [
    {
     "data": {
      "text/html": [
       "<img src=\"Italian Game.gif\"/>"
      ],
      "text/plain": [
       "<IPython.core.display.Image object>"
      ]
     },
     "execution_count": 26,
     "metadata": {},
     "output_type": "execute_result"
    }
   ],
   "source": [
    "Image(url=pgnstring2gif(openings.collect()[3][0], \"Italian Game\"))  "
   ]
  }
 ],
 "metadata": {
  "interpreter": {
   "hash": "e774977668b7c0ae8309835a5187aa7fbf7669e7d0bb59755bc63e573643edcd"
  },
  "kernelspec": {
   "display_name": "Python 3.7.9 64-bit",
   "language": "python",
   "name": "python3"
  },
  "language_info": {
   "codemirror_mode": {
    "name": "ipython",
    "version": 3
   },
   "file_extension": ".py",
   "mimetype": "text/x-python",
   "name": "python",
   "nbconvert_exporter": "python",
   "pygments_lexer": "ipython3",
   "version": "3.8.10"
  },
  "orig_nbformat": 4
 },
 "nbformat": 4,
 "nbformat_minor": 2
}
